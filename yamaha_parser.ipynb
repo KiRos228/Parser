{
 "cells": [
  {
   "cell_type": "code",
   "execution_count": 13,
   "id": "f41010a5",
   "metadata": {},
   "outputs": [],
   "source": [
    "import pandas as pd\n",
    "import requests\n",
    "from bs4 import BeautifulSoup\n",
    "import time\n",
    "import os\n",
    "from PIL import Image\n",
    "import io\n",
    "from base64 import b64encode, b64decode\n",
    "import sys\n",
    "import unicodedata\n",
    "import pickle\n",
    "import re"
   ]
  },
  {
   "cell_type": "code",
   "execution_count": 10,
   "id": "33445750",
   "metadata": {},
   "outputs": [],
   "source": [
    "def process_single_product(url, base_df, group_name='./'):\n",
    "    r = requests.get(url)\n",
    "    if r.status_code == 200:\n",
    "        pass\n",
    "    elif r.status_code >= 400:\n",
    "        print(url)\n",
    "        print(r.status_code)\n",
    "        return\n",
    "\n",
    "    soup = BeautifulSoup(r.content, 'lxml')\n",
    "    \n",
    "    #наличие\n",
    "    try:\n",
    "        available = soup.find('div', class_=\"stocks\").span.text\n",
    "    except AttributeError:\n",
    "        available = 'Нет в наличии'\n",
    "    \n",
    "    if available=='Нет в наличии':\n",
    "        return base_df\n",
    "    \n",
    "    #id_ = soup.find('li', class_=\"b-product-data__item b-product-data__item_type_sku\").span['title']\n",
    "    name = soup.find('h1', class_=\"name\").span.text\n",
    "    price = soup.find('div', class_=\"add2cart\").span['data-price']\n",
    "    description = soup.find('p', class_=\"summary\").text\n",
    "    text = soup.find('div', class_='panel-body').text\n",
    "    \n",
    "    #характеристики\n",
    "    a = soup.find('dl', class_=\"expand-content\").find_all('dd')\n",
    "    tip_dv = ''\n",
    "    obem_dv = ''\n",
    "    marka_teh = ''\n",
    "    tip_teh = ''\n",
    "    proizvoditel = ''\n",
    "    chars = {k.text.strip(): v.text.strip() for k,v in zip(soup.find('dl', class_=\"expand-content\").find_all('dt'), soup.find('dl', class_=\"expand-content\").find_all('dd'))}\n",
    "    for i in chars:\n",
    "        if i == 'Тип двигателя':\n",
    "            tip_dv = chars[i]\n",
    "            continue\n",
    "        if i == 'Объём двигателя':\n",
    "            obem_dv = chars[i]\n",
    "            continue\n",
    "        if i == 'Марка техники':\n",
    "            marka_teh = chars[i]\n",
    "            continue\n",
    "        if i == 'Тип техники':\n",
    "            tip_teh = chars[i]\n",
    "            continue\n",
    "        if i == 'Производитель':\n",
    "            proizvoditel = chars[i]\n",
    "            continue\n",
    "    \n",
    "    #фото\n",
    "    try:\n",
    "        soup.find('div', class_=\"more-images\")\n",
    "        if soup.find('div', class_=\"more-images\") is None:\n",
    "            raise AttributeError\n",
    "        a = soup.find('div', class_=\"more-images\").find_all('a')\n",
    "        b = ''\n",
    "        for i in a:\n",
    "            b += root_url + i['href'] + \"; \"\n",
    "        img_url = b\n",
    "    except AttributeError:\n",
    "        img_url = root_url + soup.find('div', class_=\"image\").a['href']\n",
    "        \n",
    "    #АЙДИ\n",
    "    \n",
    "    #КАТЕГОРИЯ\n",
    "    \n",
    "    group_name\n",
    "    \n",
    "    \n",
    "    product = {\"Название\": [name], \"Цена\": [price], \"Описание\": [description], \"Характеристики\": [product_attrs],\n",
    "               \"Код\": [id_], \"Доступность\": available, \"Изображения\": img_path}\n",
    "    product = pd.DataFrame(product)\n",
    "    display(product)\n",
    "    if base_df is not None:\n",
    "        return pd.concat([base_df, product], ignore_index=True)\n",
    "    return product"
   ]
  },
  {
   "cell_type": "code",
   "execution_count": 14,
   "id": "bdc0ed6f",
   "metadata": {},
   "outputs": [],
   "source": [
    "url = r\"https://technoparts.kz/category/zapchasti/gidrotsikly/\"\n",
    "root_url = r\"https://technoparts.kz\"\n",
    "headers = {'User-agent': 'Mozilla/5.0'}"
   ]
  },
  {
   "cell_type": "code",
   "execution_count": 15,
   "id": "3856af4e",
   "metadata": {},
   "outputs": [],
   "source": [
    "r = requests.get(url)\n",
    "soup = BeautifulSoup(r.content, 'lxml')\n"
   ]
  },
  {
   "cell_type": "code",
   "execution_count": 21,
   "id": "2ebcefd8",
   "metadata": {},
   "outputs": [
    {
     "data": {
      "text/plain": [
       "'https://technoparts.kz/category/zapchasti/gidrotsikly/elektrika/'"
      ]
     },
     "execution_count": 21,
     "metadata": {},
     "output_type": "execute_result"
    }
   ],
   "source": [
    "while i.find('a', class_=\"inline-link\").text == '→':\n",
    "    requests.get(i.find('a', class_=\"inline-link\")['href'])"
   ]
  },
  {
   "cell_type": "code",
   "execution_count": 26,
   "id": "e2976a11",
   "metadata": {},
   "outputs": [
    {
     "ename": "TypeError",
     "evalue": "'NoneType' object is not subscriptable",
     "output_type": "error",
     "traceback": [
      "\u001b[0;31m---------------------------------------------------------------------------\u001b[0m",
      "\u001b[0;31mTypeError\u001b[0m                                 Traceback (most recent call last)",
      "\u001b[0;32m/var/folders/bx/mg7js0sn0nsd31_3kn40zq9w0000gn/T/ipykernel_22928/2875309526.py\u001b[0m in \u001b[0;36m<module>\u001b[0;34m\u001b[0m\n\u001b[1;32m      6\u001b[0m \u001b[0;34m\u001b[0m\u001b[0m\n\u001b[1;32m      7\u001b[0m     \u001b[0mproduct_page_soup\u001b[0m \u001b[0;34m=\u001b[0m \u001b[0mBeautifulSoup\u001b[0m\u001b[0;34m(\u001b[0m\u001b[0mget_prod_page\u001b[0m\u001b[0;34m.\u001b[0m\u001b[0mcontent\u001b[0m\u001b[0;34m,\u001b[0m \u001b[0;34m'lxml'\u001b[0m\u001b[0;34m)\u001b[0m\u001b[0;34m\u001b[0m\u001b[0;34m\u001b[0m\u001b[0m\n\u001b[0;32m----> 8\u001b[0;31m     \u001b[0mprint\u001b[0m\u001b[0;34m(\u001b[0m\u001b[0mrequests\u001b[0m\u001b[0;34m.\u001b[0m\u001b[0mget\u001b[0m\u001b[0;34m(\u001b[0m\u001b[0mi\u001b[0m\u001b[0;34m.\u001b[0m\u001b[0mfind\u001b[0m\u001b[0;34m(\u001b[0m\u001b[0;34m'a'\u001b[0m\u001b[0;34m,\u001b[0m \u001b[0mclass_\u001b[0m\u001b[0;34m=\u001b[0m\u001b[0;34m\"inline-link\"\u001b[0m\u001b[0;34m)\u001b[0m\u001b[0;34m[\u001b[0m\u001b[0;34m'href'\u001b[0m\u001b[0;34m]\u001b[0m\u001b[0;34m)\u001b[0m\u001b[0;34m)\u001b[0m\u001b[0;34m\u001b[0m\u001b[0;34m\u001b[0m\u001b[0m\n\u001b[0m",
      "\u001b[0;31mTypeError\u001b[0m: 'NoneType' object is not subscriptable"
     ]
    }
   ],
   "source": [
    "for i in soup.find_all('div', class_=\"adaptive-filter col-lg-3 col-md-4 col-sm-6 col-xs-12\"):\n",
    "    group_df = None\n",
    "    group_name = i.find('a', class_=\"link\").text\n",
    "    products_url = root_url + i.find('a', class_=\"link\")['href']\n",
    "    get_prod_page = requests.get(products_url)\n",
    "    \n",
    "    product_page_soup = BeautifulSoup(get_prod_page.content, 'lxml')\n",
    "    print(requests.get(i.find('a', class_=\"inline-link\")['href']))"
   ]
  },
  {
   "cell_type": "markdown",
   "id": "490604ab",
   "metadata": {},
   "source": [
    "## Sas\n"
   ]
  },
  {
   "cell_type": "code",
   "execution_count": 12,
   "id": "a904db68",
   "metadata": {},
   "outputs": [
    {
     "data": {
      "text/html": [
       "<div>\n",
       "<style scoped>\n",
       "    .dataframe tbody tr th:only-of-type {\n",
       "        vertical-align: middle;\n",
       "    }\n",
       "\n",
       "    .dataframe tbody tr th {\n",
       "        vertical-align: top;\n",
       "    }\n",
       "\n",
       "    .dataframe thead th {\n",
       "        text-align: right;\n",
       "    }\n",
       "</style>\n",
       "<table border=\"1\" class=\"dataframe\">\n",
       "  <thead>\n",
       "    <tr style=\"text-align: right;\">\n",
       "      <th></th>\n",
       "      <th>Название</th>\n",
       "      <th>Цена</th>\n",
       "      <th>Описание</th>\n",
       "      <th>Характеристики</th>\n",
       "      <th>Код</th>\n",
       "      <th>Доступность</th>\n",
       "      <th>Изображения</th>\n",
       "    </tr>\n",
       "  </thead>\n",
       "  <tbody>\n",
       "    <tr>\n",
       "      <th>0</th>\n",
       "      <td>Игольчатый Подшипник Шатуна Tohatsu T 25-30 / ...</td>\n",
       "      <td>6 000 Тг.</td>\n",
       "      <td>Подшипник шатунный для TOHATSU/MERCURY 25-30/4...</td>\n",
       "      <td>Производитель Tohatsu\\nСтрана производитель Яп...</td>\n",
       "      <td>345-00042-0</td>\n",
       "      <td>В наличии</td>\n",
       "      <td>[Поршневая группа для лодочных моторов\\345-000...</td>\n",
       "    </tr>\n",
       "  </tbody>\n",
       "</table>\n",
       "</div>"
      ],
      "text/plain": [
       "                                            Название       Цена  \\\n",
       "0  Игольчатый Подшипник Шатуна Tohatsu T 25-30 / ...  6 000 Тг.   \n",
       "\n",
       "                                            Описание  \\\n",
       "0  Подшипник шатунный для TOHATSU/MERCURY 25-30/4...   \n",
       "\n",
       "                                      Характеристики          Код Доступность  \\\n",
       "0  Производитель Tohatsu\\nСтрана производитель Яп...  345-00042-0   В наличии   \n",
       "\n",
       "                                         Изображения  \n",
       "0  [Поршневая группа для лодочных моторов\\345-000...  "
      ]
     },
     "metadata": {},
     "output_type": "display_data"
    },
    {
     "data": {
      "text/html": [
       "<div>\n",
       "<style scoped>\n",
       "    .dataframe tbody tr th:only-of-type {\n",
       "        vertical-align: middle;\n",
       "    }\n",
       "\n",
       "    .dataframe tbody tr th {\n",
       "        vertical-align: top;\n",
       "    }\n",
       "\n",
       "    .dataframe thead th {\n",
       "        text-align: right;\n",
       "    }\n",
       "</style>\n",
       "<table border=\"1\" class=\"dataframe\">\n",
       "  <thead>\n",
       "    <tr style=\"text-align: right;\">\n",
       "      <th></th>\n",
       "      <th>Название</th>\n",
       "      <th>Цена</th>\n",
       "      <th>Описание</th>\n",
       "      <th>Характеристики</th>\n",
       "      <th>Код</th>\n",
       "      <th>Доступность</th>\n",
       "      <th>Изображения</th>\n",
       "    </tr>\n",
       "  </thead>\n",
       "  <tbody>\n",
       "    <tr>\n",
       "      <th>0</th>\n",
       "      <td>Палец поршневой Tohatsu Т 15 332-00021-1</td>\n",
       "      <td>6 000 Тг.</td>\n",
       "      <td>Поршневой палец Tohatsu 332-00021-0\\nМощность ...</td>\n",
       "      <td>Производитель Tohatsu\\nСтрана производитель Яп...</td>\n",
       "      <td>332-00021-1</td>\n",
       "      <td>В наличии</td>\n",
       "      <td>[Поршневая группа для лодочных моторов\\332-000...</td>\n",
       "    </tr>\n",
       "  </tbody>\n",
       "</table>\n",
       "</div>"
      ],
      "text/plain": [
       "                                   Название       Цена  \\\n",
       "0  Палец поршневой Tohatsu Т 15 332-00021-1  6 000 Тг.   \n",
       "\n",
       "                                            Описание  \\\n",
       "0  Поршневой палец Tohatsu 332-00021-0\\nМощность ...   \n",
       "\n",
       "                                      Характеристики          Код Доступность  \\\n",
       "0  Производитель Tohatsu\\nСтрана производитель Яп...  332-00021-1   В наличии   \n",
       "\n",
       "                                         Изображения  \n",
       "0  [Поршневая группа для лодочных моторов\\332-000...  "
      ]
     },
     "metadata": {},
     "output_type": "display_data"
    },
    {
     "data": {
      "text/html": [
       "<div>\n",
       "<style scoped>\n",
       "    .dataframe tbody tr th:only-of-type {\n",
       "        vertical-align: middle;\n",
       "    }\n",
       "\n",
       "    .dataframe tbody tr th {\n",
       "        vertical-align: top;\n",
       "    }\n",
       "\n",
       "    .dataframe thead th {\n",
       "        text-align: right;\n",
       "    }\n",
       "</style>\n",
       "<table border=\"1\" class=\"dataframe\">\n",
       "  <thead>\n",
       "    <tr style=\"text-align: right;\">\n",
       "      <th></th>\n",
       "      <th>Название</th>\n",
       "      <th>Цена</th>\n",
       "      <th>Описание</th>\n",
       "      <th>Характеристики</th>\n",
       "      <th>Код</th>\n",
       "      <th>Доступность</th>\n",
       "      <th>Изображения</th>\n",
       "    </tr>\n",
       "  </thead>\n",
       "  <tbody>\n",
       "    <tr>\n",
       "      <th>0</th>\n",
       "      <td>Кольца поршневые STD лодочного мотора Suzuki D...</td>\n",
       "      <td>22 000 Тг.</td>\n",
       "      <td>Кольца поршневые Suzuki DF90-115\\nМощность дви...</td>\n",
       "      <td>Производитель Suzuki\\nСтрана производитель Япо...</td>\n",
       "      <td>1214086FA0</td>\n",
       "      <td>В наличии</td>\n",
       "      <td>[Поршневая группа для лодочных моторов\\1214086...</td>\n",
       "    </tr>\n",
       "  </tbody>\n",
       "</table>\n",
       "</div>"
      ],
      "text/plain": [
       "                                            Название        Цена  \\\n",
       "0  Кольца поршневые STD лодочного мотора Suzuki D...  22 000 Тг.   \n",
       "\n",
       "                                            Описание  \\\n",
       "0  Кольца поршневые Suzuki DF90-115\\nМощность дви...   \n",
       "\n",
       "                                      Характеристики         Код Доступность  \\\n",
       "0  Производитель Suzuki\\nСтрана производитель Япо...  1214086FA0   В наличии   \n",
       "\n",
       "                                         Изображения  \n",
       "0  [Поршневая группа для лодочных моторов\\1214086...  "
      ]
     },
     "metadata": {},
     "output_type": "display_data"
    },
    {
     "data": {
      "text/html": [
       "<div>\n",
       "<style scoped>\n",
       "    .dataframe tbody tr th:only-of-type {\n",
       "        vertical-align: middle;\n",
       "    }\n",
       "\n",
       "    .dataframe tbody tr th {\n",
       "        vertical-align: top;\n",
       "    }\n",
       "\n",
       "    .dataframe thead th {\n",
       "        text-align: right;\n",
       "    }\n",
       "</style>\n",
       "<table border=\"1\" class=\"dataframe\">\n",
       "  <thead>\n",
       "    <tr style=\"text-align: right;\">\n",
       "      <th></th>\n",
       "      <th>Название</th>\n",
       "      <th>Цена</th>\n",
       "      <th>Описание</th>\n",
       "      <th>Характеристики</th>\n",
       "      <th>Код</th>\n",
       "      <th>Доступность</th>\n",
       "      <th>Изображения</th>\n",
       "    </tr>\n",
       "  </thead>\n",
       "  <tbody>\n",
       "    <tr>\n",
       "      <th>0</th>\n",
       "      <td>Кольца поршневые Suzuki DT 40 12140-94400-0000</td>\n",
       "      <td>15 000 Тг.</td>\n",
       "      <td>Кольца поршневые для подвесных лодочных моторо...</td>\n",
       "      <td>Производитель Suzuki\\nСтрана производитель Япо...</td>\n",
       "      <td>12140-94400-0000</td>\n",
       "      <td>В наличии</td>\n",
       "      <td>[Поршневая группа для лодочных моторов\\12140-9...</td>\n",
       "    </tr>\n",
       "  </tbody>\n",
       "</table>\n",
       "</div>"
      ],
      "text/plain": [
       "                                         Название        Цена  \\\n",
       "0  Кольца поршневые Suzuki DT 40 12140-94400-0000  15 000 Тг.   \n",
       "\n",
       "                                            Описание  \\\n",
       "0  Кольца поршневые для подвесных лодочных моторо...   \n",
       "\n",
       "                                      Характеристики               Код  \\\n",
       "0  Производитель Suzuki\\nСтрана производитель Япо...  12140-94400-0000   \n",
       "\n",
       "  Доступность                                        Изображения  \n",
       "0   В наличии  [Поршневая группа для лодочных моторов\\12140-9...  "
      ]
     },
     "metadata": {},
     "output_type": "display_data"
    },
    {
     "data": {
      "text/html": [
       "<div>\n",
       "<style scoped>\n",
       "    .dataframe tbody tr th:only-of-type {\n",
       "        vertical-align: middle;\n",
       "    }\n",
       "\n",
       "    .dataframe tbody tr th {\n",
       "        vertical-align: top;\n",
       "    }\n",
       "\n",
       "    .dataframe thead th {\n",
       "        text-align: right;\n",
       "    }\n",
       "</style>\n",
       "<table border=\"1\" class=\"dataframe\">\n",
       "  <thead>\n",
       "    <tr style=\"text-align: right;\">\n",
       "      <th></th>\n",
       "      <th>Название</th>\n",
       "      <th>Цена</th>\n",
       "      <th>Описание</th>\n",
       "      <th>Характеристики</th>\n",
       "      <th>Код</th>\n",
       "      <th>Доступность</th>\n",
       "      <th>Изображения</th>\n",
       "    </tr>\n",
       "  </thead>\n",
       "  <tbody>\n",
       "    <tr>\n",
       "      <th>0</th>\n",
       "      <td>Кольца поршневые STD лодочного мотора Tohatsu ...</td>\n",
       "      <td>8 000 Тг.</td>\n",
       "      <td>Кольца поршневые STD Tohatsu для подвесных лод...</td>\n",
       "      <td>Производитель Tohatsu\\nСтрана производитель Яп...</td>\n",
       "      <td>3B2-00011-0-X</td>\n",
       "      <td>В наличии</td>\n",
       "      <td>[Поршневая группа для лодочных моторов\\3B2-000...</td>\n",
       "    </tr>\n",
       "  </tbody>\n",
       "</table>\n",
       "</div>"
      ],
      "text/plain": [
       "                                            Название       Цена  \\\n",
       "0  Кольца поршневые STD лодочного мотора Tohatsu ...  8 000 Тг.   \n",
       "\n",
       "                                            Описание  \\\n",
       "0  Кольца поршневые STD Tohatsu для подвесных лод...   \n",
       "\n",
       "                                      Характеристики            Код  \\\n",
       "0  Производитель Tohatsu\\nСтрана производитель Яп...  3B2-00011-0-X   \n",
       "\n",
       "  Доступность                                        Изображения  \n",
       "0   В наличии  [Поршневая группа для лодочных моторов\\3B2-000...  "
      ]
     },
     "metadata": {},
     "output_type": "display_data"
    },
    {
     "data": {
      "text/html": [
       "<div>\n",
       "<style scoped>\n",
       "    .dataframe tbody tr th:only-of-type {\n",
       "        vertical-align: middle;\n",
       "    }\n",
       "\n",
       "    .dataframe tbody tr th {\n",
       "        vertical-align: top;\n",
       "    }\n",
       "\n",
       "    .dataframe thead th {\n",
       "        text-align: right;\n",
       "    }\n",
       "</style>\n",
       "<table border=\"1\" class=\"dataframe\">\n",
       "  <thead>\n",
       "    <tr style=\"text-align: right;\">\n",
       "      <th></th>\n",
       "      <th>Название</th>\n",
       "      <th>Цена</th>\n",
       "      <th>Описание</th>\n",
       "      <th>Характеристики</th>\n",
       "      <th>Код</th>\n",
       "      <th>Доступность</th>\n",
       "      <th>Изображения</th>\n",
       "    </tr>\n",
       "  </thead>\n",
       "  <tbody>\n",
       "    <tr>\n",
       "      <th>0</th>\n",
       "      <td>Кольца поршневые лодочного мотора Yamaha Y 115...</td>\n",
       "      <td>18 500 Тг.</td>\n",
       "      <td>Кольца поршневые лодочного мотора E115A\\n\\nДля...</td>\n",
       "      <td>Производитель YAMAHA\\nСтрана производитель Япо...</td>\n",
       "      <td>61U1160120</td>\n",
       "      <td>В наличии</td>\n",
       "      <td>[Поршневая группа для лодочных моторов\\61U1160...</td>\n",
       "    </tr>\n",
       "  </tbody>\n",
       "</table>\n",
       "</div>"
      ],
      "text/plain": [
       "                                            Название        Цена  \\\n",
       "0  Кольца поршневые лодочного мотора Yamaha Y 115...  18 500 Тг.   \n",
       "\n",
       "                                            Описание  \\\n",
       "0  Кольца поршневые лодочного мотора E115A\\n\\nДля...   \n",
       "\n",
       "                                      Характеристики         Код Доступность  \\\n",
       "0  Производитель YAMAHA\\nСтрана производитель Япо...  61U1160120   В наличии   \n",
       "\n",
       "                                         Изображения  \n",
       "0  [Поршневая группа для лодочных моторов\\61U1160...  "
      ]
     },
     "metadata": {},
     "output_type": "display_data"
    },
    {
     "data": {
      "text/html": [
       "<div>\n",
       "<style scoped>\n",
       "    .dataframe tbody tr th:only-of-type {\n",
       "        vertical-align: middle;\n",
       "    }\n",
       "\n",
       "    .dataframe tbody tr th {\n",
       "        vertical-align: top;\n",
       "    }\n",
       "\n",
       "    .dataframe thead th {\n",
       "        text-align: right;\n",
       "    }\n",
       "</style>\n",
       "<table border=\"1\" class=\"dataframe\">\n",
       "  <thead>\n",
       "    <tr style=\"text-align: right;\">\n",
       "      <th></th>\n",
       "      <th>Название</th>\n",
       "      <th>Цена</th>\n",
       "      <th>Описание</th>\n",
       "      <th>Характеристики</th>\n",
       "      <th>Код</th>\n",
       "      <th>Доступность</th>\n",
       "      <th>Изображения</th>\n",
       "    </tr>\n",
       "  </thead>\n",
       "  <tbody>\n",
       "    <tr>\n",
       "      <th>0</th>\n",
       "      <td>Кольца поршневые мотоцикла Yamaha Y R1 4C81160...</td>\n",
       "      <td>14 500 Тг.</td>\n",
       "      <td>Кольца поршневые мотоцикла Yamaha Y R1\\nЗапчас...</td>\n",
       "      <td>Производитель YAMAHA\\nСтрана производитель Япо...</td>\n",
       "      <td>4C8116030000</td>\n",
       "      <td>В наличии</td>\n",
       "      <td>[Поршневая группа для лодочных моторов\\4C81160...</td>\n",
       "    </tr>\n",
       "  </tbody>\n",
       "</table>\n",
       "</div>"
      ],
      "text/plain": [
       "                                            Название        Цена  \\\n",
       "0  Кольца поршневые мотоцикла Yamaha Y R1 4C81160...  14 500 Тг.   \n",
       "\n",
       "                                            Описание  \\\n",
       "0  Кольца поршневые мотоцикла Yamaha Y R1\\nЗапчас...   \n",
       "\n",
       "                                      Характеристики           Код  \\\n",
       "0  Производитель YAMAHA\\nСтрана производитель Япо...  4C8116030000   \n",
       "\n",
       "  Доступность                                        Изображения  \n",
       "0   В наличии  [Поршневая группа для лодочных моторов\\4C81160...  "
      ]
     },
     "metadata": {},
     "output_type": "display_data"
    },
    {
     "data": {
      "text/html": [
       "<div>\n",
       "<style scoped>\n",
       "    .dataframe tbody tr th:only-of-type {\n",
       "        vertical-align: middle;\n",
       "    }\n",
       "\n",
       "    .dataframe tbody tr th {\n",
       "        vertical-align: top;\n",
       "    }\n",
       "\n",
       "    .dataframe thead th {\n",
       "        text-align: right;\n",
       "    }\n",
       "</style>\n",
       "<table border=\"1\" class=\"dataframe\">\n",
       "  <thead>\n",
       "    <tr style=\"text-align: right;\">\n",
       "      <th></th>\n",
       "      <th>Название</th>\n",
       "      <th>Цена</th>\n",
       "      <th>Описание</th>\n",
       "      <th>Характеристики</th>\n",
       "      <th>Код</th>\n",
       "      <th>Доступность</th>\n",
       "      <th>Изображения</th>\n",
       "    </tr>\n",
       "  </thead>\n",
       "  <tbody>\n",
       "    <tr>\n",
       "      <th>0</th>\n",
       "      <td>Палец поршневой Yamaha Y 30 689116330000</td>\n",
       "      <td>4 000 Тг.</td>\n",
       "      <td>Палец поршневой для YAMAHA 25Н/B-30H (оригинал...</td>\n",
       "      <td>Производитель YAMAHA\\nСтрана производитель Япо...</td>\n",
       "      <td>689116330000</td>\n",
       "      <td>В наличии</td>\n",
       "      <td>[Поршневая группа для лодочных моторов\\6891163...</td>\n",
       "    </tr>\n",
       "  </tbody>\n",
       "</table>\n",
       "</div>"
      ],
      "text/plain": [
       "                                   Название       Цена  \\\n",
       "0  Палец поршневой Yamaha Y 30 689116330000  4 000 Тг.   \n",
       "\n",
       "                                            Описание  \\\n",
       "0  Палец поршневой для YAMAHA 25Н/B-30H (оригинал...   \n",
       "\n",
       "                                      Характеристики           Код  \\\n",
       "0  Производитель YAMAHA\\nСтрана производитель Япо...  689116330000   \n",
       "\n",
       "  Доступность                                        Изображения  \n",
       "0   В наличии  [Поршневая группа для лодочных моторов\\6891163...  "
      ]
     },
     "metadata": {},
     "output_type": "display_data"
    },
    {
     "data": {
      "text/html": [
       "<div>\n",
       "<style scoped>\n",
       "    .dataframe tbody tr th:only-of-type {\n",
       "        vertical-align: middle;\n",
       "    }\n",
       "\n",
       "    .dataframe tbody tr th {\n",
       "        vertical-align: top;\n",
       "    }\n",
       "\n",
       "    .dataframe thead th {\n",
       "        text-align: right;\n",
       "    }\n",
       "</style>\n",
       "<table border=\"1\" class=\"dataframe\">\n",
       "  <thead>\n",
       "    <tr style=\"text-align: right;\">\n",
       "      <th></th>\n",
       "      <th>Название</th>\n",
       "      <th>Цена</th>\n",
       "      <th>Описание</th>\n",
       "      <th>Характеристики</th>\n",
       "      <th>Код</th>\n",
       "      <th>Доступность</th>\n",
       "      <th>Изображения</th>\n",
       "    </tr>\n",
       "  </thead>\n",
       "  <tbody>\n",
       "    <tr>\n",
       "      <th>0</th>\n",
       "      <td>Иголки поршневого пальца Yamaha Y 50 - 60 - 70...</td>\n",
       "      <td>420 Тг.</td>\n",
       "      <td>Ролик игольчатого подшипника для лодочных мото...</td>\n",
       "      <td>Производитель YAMAHA\\nСтрана производитель Япо...</td>\n",
       "      <td>9360318M09</td>\n",
       "      <td>В наличии</td>\n",
       "      <td>[Поршневая группа для лодочных моторов\\9360318...</td>\n",
       "    </tr>\n",
       "  </tbody>\n",
       "</table>\n",
       "</div>"
      ],
      "text/plain": [
       "                                            Название     Цена  \\\n",
       "0  Иголки поршневого пальца Yamaha Y 50 - 60 - 70...  420 Тг.   \n",
       "\n",
       "                                            Описание  \\\n",
       "0  Ролик игольчатого подшипника для лодочных мото...   \n",
       "\n",
       "                                      Характеристики         Код Доступность  \\\n",
       "0  Производитель YAMAHA\\nСтрана производитель Япо...  9360318M09   В наличии   \n",
       "\n",
       "                                         Изображения  \n",
       "0  [Поршневая группа для лодочных моторов\\9360318...  "
      ]
     },
     "metadata": {},
     "output_type": "display_data"
    },
    {
     "ename": "KeyboardInterrupt",
     "evalue": "",
     "output_type": "error",
     "traceback": [
      "\u001b[0;31m---------------------------------------------------------------------------\u001b[0m",
      "\u001b[0;31mKeyboardInterrupt\u001b[0m                         Traceback (most recent call last)",
      "\u001b[0;32m/var/folders/bx/mg7js0sn0nsd31_3kn40zq9w0000gn/T/ipykernel_15249/3897553393.py\u001b[0m in \u001b[0;36m<module>\u001b[0;34m\u001b[0m\n\u001b[1;32m     23\u001b[0m         \u001b[0;32mfor\u001b[0m \u001b[0msingle_prod\u001b[0m \u001b[0;32min\u001b[0m \u001b[0mproduct_page_soup\u001b[0m\u001b[0;34m.\u001b[0m\u001b[0mfind_all\u001b[0m\u001b[0;34m(\u001b[0m\u001b[0;34m'a'\u001b[0m\u001b[0;34m,\u001b[0m \u001b[0mclass_\u001b[0m\u001b[0;34m=\u001b[0m\u001b[0;34m\"cs-product-gallery__image-link\"\u001b[0m\u001b[0;34m)\u001b[0m\u001b[0;34m:\u001b[0m\u001b[0;34m\u001b[0m\u001b[0;34m\u001b[0m\u001b[0m\n\u001b[1;32m     24\u001b[0m             \u001b[0msingle_prod_link\u001b[0m \u001b[0;34m=\u001b[0m \u001b[0mroot_url\u001b[0m \u001b[0;34m+\u001b[0m \u001b[0msingle_prod\u001b[0m\u001b[0;34m[\u001b[0m\u001b[0;34m'href'\u001b[0m\u001b[0;34m]\u001b[0m\u001b[0;34m\u001b[0m\u001b[0;34m\u001b[0m\u001b[0m\n\u001b[0;32m---> 25\u001b[0;31m             \u001b[0mgroup_df\u001b[0m \u001b[0;34m=\u001b[0m \u001b[0mprocess_single_product\u001b[0m\u001b[0;34m(\u001b[0m\u001b[0msingle_prod_link\u001b[0m\u001b[0;34m,\u001b[0m \u001b[0mbase_df\u001b[0m\u001b[0;34m=\u001b[0m\u001b[0mgroup_df\u001b[0m\u001b[0;34m,\u001b[0m \u001b[0mgroup_name\u001b[0m\u001b[0;34m=\u001b[0m\u001b[0mgroup_name\u001b[0m\u001b[0;34m)\u001b[0m\u001b[0;34m\u001b[0m\u001b[0;34m\u001b[0m\u001b[0m\n\u001b[0m\u001b[1;32m     26\u001b[0m             \u001b[0;32mwith\u001b[0m \u001b[0mopen\u001b[0m\u001b[0;34m(\u001b[0m\u001b[0;34mf\"{group_name}\\\\\"\u001b[0m \u001b[0;34m+\u001b[0m \u001b[0mb64encode\u001b[0m\u001b[0;34m(\u001b[0m\u001b[0mproduct_url\u001b[0m\u001b[0;34m.\u001b[0m\u001b[0mencode\u001b[0m\u001b[0;34m(\u001b[0m\u001b[0;34m)\u001b[0m\u001b[0;34m)\u001b[0m\u001b[0;34m.\u001b[0m\u001b[0mdecode\u001b[0m\u001b[0;34m(\u001b[0m\u001b[0;34m)\u001b[0m \u001b[0;34m+\u001b[0m \u001b[0;34m\".html\"\u001b[0m\u001b[0;34m,\u001b[0m \u001b[0;34m'wb'\u001b[0m\u001b[0;34m)\u001b[0m \u001b[0;32mas\u001b[0m \u001b[0mf\u001b[0m\u001b[0;34m:\u001b[0m  \u001b[0;31m# в голос\u001b[0m\u001b[0;34m\u001b[0m\u001b[0;34m\u001b[0m\u001b[0m\n\u001b[1;32m     27\u001b[0m                 \u001b[0mf\u001b[0m\u001b[0;34m.\u001b[0m\u001b[0mwrite\u001b[0m\u001b[0;34m(\u001b[0m\u001b[0mget_prod_page\u001b[0m\u001b[0;34m.\u001b[0m\u001b[0mcontent\u001b[0m\u001b[0;34m)\u001b[0m\u001b[0;34m\u001b[0m\u001b[0;34m\u001b[0m\u001b[0m\n",
      "\u001b[0;32m/var/folders/bx/mg7js0sn0nsd31_3kn40zq9w0000gn/T/ipykernel_15249/946393762.py\u001b[0m in \u001b[0;36mprocess_single_product\u001b[0;34m(url, base_df, group_name)\u001b[0m\n\u001b[1;32m     31\u001b[0m         \u001b[0;32mif\u001b[0m \u001b[0mimg2\u001b[0m\u001b[0;34m:\u001b[0m\u001b[0;34m\u001b[0m\u001b[0;34m\u001b[0m\u001b[0m\n\u001b[1;32m     32\u001b[0m             \u001b[0mimg_url2\u001b[0m \u001b[0;34m=\u001b[0m \u001b[0mimg2\u001b[0m\u001b[0;34m[\u001b[0m\u001b[0;34m'src'\u001b[0m\u001b[0;34m]\u001b[0m\u001b[0;34m\u001b[0m\u001b[0;34m\u001b[0m\u001b[0m\n\u001b[0;32m---> 33\u001b[0;31m             \u001b[0mget_img2\u001b[0m \u001b[0;34m=\u001b[0m \u001b[0mrequests\u001b[0m\u001b[0;34m.\u001b[0m\u001b[0mget\u001b[0m\u001b[0;34m(\u001b[0m\u001b[0mimg_url2\u001b[0m\u001b[0;34m,\u001b[0m \u001b[0mstream\u001b[0m\u001b[0;34m=\u001b[0m\u001b[0;32mTrue\u001b[0m\u001b[0;34m)\u001b[0m\u001b[0;34m\u001b[0m\u001b[0;34m\u001b[0m\u001b[0m\n\u001b[0m\u001b[1;32m     34\u001b[0m             \u001b[0;32mwith\u001b[0m \u001b[0mopen\u001b[0m\u001b[0;34m(\u001b[0m\u001b[0;34mrf\"{group_name}\\{id_}_2.jpg\"\u001b[0m\u001b[0;34m,\u001b[0m \u001b[0;34m'wb'\u001b[0m\u001b[0;34m)\u001b[0m \u001b[0;32mas\u001b[0m \u001b[0mf\u001b[0m\u001b[0;34m:\u001b[0m\u001b[0;34m\u001b[0m\u001b[0;34m\u001b[0m\u001b[0m\n\u001b[1;32m     35\u001b[0m                 \u001b[0mf\u001b[0m\u001b[0;34m.\u001b[0m\u001b[0mwrite\u001b[0m\u001b[0;34m(\u001b[0m\u001b[0mget_img2\u001b[0m\u001b[0;34m.\u001b[0m\u001b[0mcontent\u001b[0m\u001b[0;34m)\u001b[0m\u001b[0;34m\u001b[0m\u001b[0;34m\u001b[0m\u001b[0m\n",
      "\u001b[0;32m~/opt/anaconda3/lib/python3.9/site-packages/requests/api.py\u001b[0m in \u001b[0;36mget\u001b[0;34m(url, params, **kwargs)\u001b[0m\n\u001b[1;32m     71\u001b[0m     \"\"\"\n\u001b[1;32m     72\u001b[0m \u001b[0;34m\u001b[0m\u001b[0m\n\u001b[0;32m---> 73\u001b[0;31m     \u001b[0;32mreturn\u001b[0m \u001b[0mrequest\u001b[0m\u001b[0;34m(\u001b[0m\u001b[0;34m\"get\"\u001b[0m\u001b[0;34m,\u001b[0m \u001b[0murl\u001b[0m\u001b[0;34m,\u001b[0m \u001b[0mparams\u001b[0m\u001b[0;34m=\u001b[0m\u001b[0mparams\u001b[0m\u001b[0;34m,\u001b[0m \u001b[0;34m**\u001b[0m\u001b[0mkwargs\u001b[0m\u001b[0;34m)\u001b[0m\u001b[0;34m\u001b[0m\u001b[0;34m\u001b[0m\u001b[0m\n\u001b[0m\u001b[1;32m     74\u001b[0m \u001b[0;34m\u001b[0m\u001b[0m\n\u001b[1;32m     75\u001b[0m \u001b[0;34m\u001b[0m\u001b[0m\n",
      "\u001b[0;32m~/opt/anaconda3/lib/python3.9/site-packages/requests/api.py\u001b[0m in \u001b[0;36mrequest\u001b[0;34m(method, url, **kwargs)\u001b[0m\n\u001b[1;32m     57\u001b[0m     \u001b[0;31m# cases, and look like a memory leak in others.\u001b[0m\u001b[0;34m\u001b[0m\u001b[0;34m\u001b[0m\u001b[0m\n\u001b[1;32m     58\u001b[0m     \u001b[0;32mwith\u001b[0m \u001b[0msessions\u001b[0m\u001b[0;34m.\u001b[0m\u001b[0mSession\u001b[0m\u001b[0;34m(\u001b[0m\u001b[0;34m)\u001b[0m \u001b[0;32mas\u001b[0m \u001b[0msession\u001b[0m\u001b[0;34m:\u001b[0m\u001b[0;34m\u001b[0m\u001b[0;34m\u001b[0m\u001b[0m\n\u001b[0;32m---> 59\u001b[0;31m         \u001b[0;32mreturn\u001b[0m \u001b[0msession\u001b[0m\u001b[0;34m.\u001b[0m\u001b[0mrequest\u001b[0m\u001b[0;34m(\u001b[0m\u001b[0mmethod\u001b[0m\u001b[0;34m=\u001b[0m\u001b[0mmethod\u001b[0m\u001b[0;34m,\u001b[0m \u001b[0murl\u001b[0m\u001b[0;34m=\u001b[0m\u001b[0murl\u001b[0m\u001b[0;34m,\u001b[0m \u001b[0;34m**\u001b[0m\u001b[0mkwargs\u001b[0m\u001b[0;34m)\u001b[0m\u001b[0;34m\u001b[0m\u001b[0;34m\u001b[0m\u001b[0m\n\u001b[0m\u001b[1;32m     60\u001b[0m \u001b[0;34m\u001b[0m\u001b[0m\n\u001b[1;32m     61\u001b[0m \u001b[0;34m\u001b[0m\u001b[0m\n",
      "\u001b[0;32m~/opt/anaconda3/lib/python3.9/site-packages/requests/sessions.py\u001b[0m in \u001b[0;36mrequest\u001b[0;34m(self, method, url, params, data, headers, cookies, files, auth, timeout, allow_redirects, proxies, hooks, stream, verify, cert, json)\u001b[0m\n\u001b[1;32m    585\u001b[0m         }\n\u001b[1;32m    586\u001b[0m         \u001b[0msend_kwargs\u001b[0m\u001b[0;34m.\u001b[0m\u001b[0mupdate\u001b[0m\u001b[0;34m(\u001b[0m\u001b[0msettings\u001b[0m\u001b[0;34m)\u001b[0m\u001b[0;34m\u001b[0m\u001b[0;34m\u001b[0m\u001b[0m\n\u001b[0;32m--> 587\u001b[0;31m         \u001b[0mresp\u001b[0m \u001b[0;34m=\u001b[0m \u001b[0mself\u001b[0m\u001b[0;34m.\u001b[0m\u001b[0msend\u001b[0m\u001b[0;34m(\u001b[0m\u001b[0mprep\u001b[0m\u001b[0;34m,\u001b[0m \u001b[0;34m**\u001b[0m\u001b[0msend_kwargs\u001b[0m\u001b[0;34m)\u001b[0m\u001b[0;34m\u001b[0m\u001b[0;34m\u001b[0m\u001b[0m\n\u001b[0m\u001b[1;32m    588\u001b[0m \u001b[0;34m\u001b[0m\u001b[0m\n\u001b[1;32m    589\u001b[0m         \u001b[0;32mreturn\u001b[0m \u001b[0mresp\u001b[0m\u001b[0;34m\u001b[0m\u001b[0;34m\u001b[0m\u001b[0m\n",
      "\u001b[0;32m~/opt/anaconda3/lib/python3.9/site-packages/requests/sessions.py\u001b[0m in \u001b[0;36msend\u001b[0;34m(self, request, **kwargs)\u001b[0m\n\u001b[1;32m    699\u001b[0m \u001b[0;34m\u001b[0m\u001b[0m\n\u001b[1;32m    700\u001b[0m         \u001b[0;31m# Send the request\u001b[0m\u001b[0;34m\u001b[0m\u001b[0;34m\u001b[0m\u001b[0m\n\u001b[0;32m--> 701\u001b[0;31m         \u001b[0mr\u001b[0m \u001b[0;34m=\u001b[0m \u001b[0madapter\u001b[0m\u001b[0;34m.\u001b[0m\u001b[0msend\u001b[0m\u001b[0;34m(\u001b[0m\u001b[0mrequest\u001b[0m\u001b[0;34m,\u001b[0m \u001b[0;34m**\u001b[0m\u001b[0mkwargs\u001b[0m\u001b[0;34m)\u001b[0m\u001b[0;34m\u001b[0m\u001b[0;34m\u001b[0m\u001b[0m\n\u001b[0m\u001b[1;32m    702\u001b[0m \u001b[0;34m\u001b[0m\u001b[0m\n\u001b[1;32m    703\u001b[0m         \u001b[0;31m# Total elapsed time of the request (approximately)\u001b[0m\u001b[0;34m\u001b[0m\u001b[0;34m\u001b[0m\u001b[0m\n",
      "\u001b[0;32m~/opt/anaconda3/lib/python3.9/site-packages/requests/adapters.py\u001b[0m in \u001b[0;36msend\u001b[0;34m(self, request, stream, timeout, verify, cert, proxies)\u001b[0m\n\u001b[1;32m    487\u001b[0m         \u001b[0;32mtry\u001b[0m\u001b[0;34m:\u001b[0m\u001b[0;34m\u001b[0m\u001b[0;34m\u001b[0m\u001b[0m\n\u001b[1;32m    488\u001b[0m             \u001b[0;32mif\u001b[0m \u001b[0;32mnot\u001b[0m \u001b[0mchunked\u001b[0m\u001b[0;34m:\u001b[0m\u001b[0;34m\u001b[0m\u001b[0;34m\u001b[0m\u001b[0m\n\u001b[0;32m--> 489\u001b[0;31m                 resp = conn.urlopen(\n\u001b[0m\u001b[1;32m    490\u001b[0m                     \u001b[0mmethod\u001b[0m\u001b[0;34m=\u001b[0m\u001b[0mrequest\u001b[0m\u001b[0;34m.\u001b[0m\u001b[0mmethod\u001b[0m\u001b[0;34m,\u001b[0m\u001b[0;34m\u001b[0m\u001b[0;34m\u001b[0m\u001b[0m\n\u001b[1;32m    491\u001b[0m                     \u001b[0murl\u001b[0m\u001b[0;34m=\u001b[0m\u001b[0murl\u001b[0m\u001b[0;34m,\u001b[0m\u001b[0;34m\u001b[0m\u001b[0;34m\u001b[0m\u001b[0m\n",
      "\u001b[0;32m~/opt/anaconda3/lib/python3.9/site-packages/urllib3/connectionpool.py\u001b[0m in \u001b[0;36murlopen\u001b[0;34m(self, method, url, body, headers, retries, redirect, assert_same_host, timeout, pool_timeout, release_conn, chunked, body_pos, **response_kw)\u001b[0m\n\u001b[1;32m    701\u001b[0m \u001b[0;34m\u001b[0m\u001b[0m\n\u001b[1;32m    702\u001b[0m             \u001b[0;31m# Make the request on the httplib connection object.\u001b[0m\u001b[0;34m\u001b[0m\u001b[0;34m\u001b[0m\u001b[0m\n\u001b[0;32m--> 703\u001b[0;31m             httplib_response = self._make_request(\n\u001b[0m\u001b[1;32m    704\u001b[0m                 \u001b[0mconn\u001b[0m\u001b[0;34m,\u001b[0m\u001b[0;34m\u001b[0m\u001b[0;34m\u001b[0m\u001b[0m\n\u001b[1;32m    705\u001b[0m                 \u001b[0mmethod\u001b[0m\u001b[0;34m,\u001b[0m\u001b[0;34m\u001b[0m\u001b[0;34m\u001b[0m\u001b[0m\n",
      "\u001b[0;32m~/opt/anaconda3/lib/python3.9/site-packages/urllib3/connectionpool.py\u001b[0m in \u001b[0;36m_make_request\u001b[0;34m(self, conn, method, url, timeout, chunked, **httplib_request_kw)\u001b[0m\n\u001b[1;32m    384\u001b[0m         \u001b[0;31m# Trigger any extra validation we need to do.\u001b[0m\u001b[0;34m\u001b[0m\u001b[0;34m\u001b[0m\u001b[0m\n\u001b[1;32m    385\u001b[0m         \u001b[0;32mtry\u001b[0m\u001b[0;34m:\u001b[0m\u001b[0;34m\u001b[0m\u001b[0;34m\u001b[0m\u001b[0m\n\u001b[0;32m--> 386\u001b[0;31m             \u001b[0mself\u001b[0m\u001b[0;34m.\u001b[0m\u001b[0m_validate_conn\u001b[0m\u001b[0;34m(\u001b[0m\u001b[0mconn\u001b[0m\u001b[0;34m)\u001b[0m\u001b[0;34m\u001b[0m\u001b[0;34m\u001b[0m\u001b[0m\n\u001b[0m\u001b[1;32m    387\u001b[0m         \u001b[0;32mexcept\u001b[0m \u001b[0;34m(\u001b[0m\u001b[0mSocketTimeout\u001b[0m\u001b[0;34m,\u001b[0m \u001b[0mBaseSSLError\u001b[0m\u001b[0;34m)\u001b[0m \u001b[0;32mas\u001b[0m \u001b[0me\u001b[0m\u001b[0;34m:\u001b[0m\u001b[0;34m\u001b[0m\u001b[0;34m\u001b[0m\u001b[0m\n\u001b[1;32m    388\u001b[0m             \u001b[0;31m# Py2 raises this as a BaseSSLError, Py3 raises it as socket timeout.\u001b[0m\u001b[0;34m\u001b[0m\u001b[0;34m\u001b[0m\u001b[0m\n",
      "\u001b[0;32m~/opt/anaconda3/lib/python3.9/site-packages/urllib3/connectionpool.py\u001b[0m in \u001b[0;36m_validate_conn\u001b[0;34m(self, conn)\u001b[0m\n\u001b[1;32m   1040\u001b[0m         \u001b[0;31m# Force connect early to allow us to validate the connection.\u001b[0m\u001b[0;34m\u001b[0m\u001b[0;34m\u001b[0m\u001b[0m\n\u001b[1;32m   1041\u001b[0m         \u001b[0;32mif\u001b[0m \u001b[0;32mnot\u001b[0m \u001b[0mgetattr\u001b[0m\u001b[0;34m(\u001b[0m\u001b[0mconn\u001b[0m\u001b[0;34m,\u001b[0m \u001b[0;34m\"sock\"\u001b[0m\u001b[0;34m,\u001b[0m \u001b[0;32mNone\u001b[0m\u001b[0;34m)\u001b[0m\u001b[0;34m:\u001b[0m  \u001b[0;31m# AppEngine might not have  `.sock`\u001b[0m\u001b[0;34m\u001b[0m\u001b[0;34m\u001b[0m\u001b[0m\n\u001b[0;32m-> 1042\u001b[0;31m             \u001b[0mconn\u001b[0m\u001b[0;34m.\u001b[0m\u001b[0mconnect\u001b[0m\u001b[0;34m(\u001b[0m\u001b[0;34m)\u001b[0m\u001b[0;34m\u001b[0m\u001b[0;34m\u001b[0m\u001b[0m\n\u001b[0m\u001b[1;32m   1043\u001b[0m \u001b[0;34m\u001b[0m\u001b[0m\n\u001b[1;32m   1044\u001b[0m         \u001b[0;32mif\u001b[0m \u001b[0;32mnot\u001b[0m \u001b[0mconn\u001b[0m\u001b[0;34m.\u001b[0m\u001b[0mis_verified\u001b[0m\u001b[0;34m:\u001b[0m\u001b[0;34m\u001b[0m\u001b[0;34m\u001b[0m\u001b[0m\n",
      "\u001b[0;32m~/opt/anaconda3/lib/python3.9/site-packages/urllib3/connection.py\u001b[0m in \u001b[0;36mconnect\u001b[0;34m(self)\u001b[0m\n\u001b[1;32m    412\u001b[0m             \u001b[0mcontext\u001b[0m\u001b[0;34m.\u001b[0m\u001b[0mload_default_certs\u001b[0m\u001b[0;34m(\u001b[0m\u001b[0;34m)\u001b[0m\u001b[0;34m\u001b[0m\u001b[0;34m\u001b[0m\u001b[0m\n\u001b[1;32m    413\u001b[0m \u001b[0;34m\u001b[0m\u001b[0m\n\u001b[0;32m--> 414\u001b[0;31m         self.sock = ssl_wrap_socket(\n\u001b[0m\u001b[1;32m    415\u001b[0m             \u001b[0msock\u001b[0m\u001b[0;34m=\u001b[0m\u001b[0mconn\u001b[0m\u001b[0;34m,\u001b[0m\u001b[0;34m\u001b[0m\u001b[0;34m\u001b[0m\u001b[0m\n\u001b[1;32m    416\u001b[0m             \u001b[0mkeyfile\u001b[0m\u001b[0;34m=\u001b[0m\u001b[0mself\u001b[0m\u001b[0;34m.\u001b[0m\u001b[0mkey_file\u001b[0m\u001b[0;34m,\u001b[0m\u001b[0;34m\u001b[0m\u001b[0;34m\u001b[0m\u001b[0m\n",
      "\u001b[0;32m~/opt/anaconda3/lib/python3.9/site-packages/urllib3/util/ssl_.py\u001b[0m in \u001b[0;36mssl_wrap_socket\u001b[0;34m(sock, keyfile, certfile, cert_reqs, ca_certs, server_hostname, ssl_version, ciphers, ssl_context, ca_cert_dir, key_password, ca_cert_data, tls_in_tls)\u001b[0m\n\u001b[1;32m    447\u001b[0m \u001b[0;34m\u001b[0m\u001b[0m\n\u001b[1;32m    448\u001b[0m     \u001b[0;32mif\u001b[0m \u001b[0msend_sni\u001b[0m\u001b[0;34m:\u001b[0m\u001b[0;34m\u001b[0m\u001b[0;34m\u001b[0m\u001b[0m\n\u001b[0;32m--> 449\u001b[0;31m         ssl_sock = _ssl_wrap_socket_impl(\n\u001b[0m\u001b[1;32m    450\u001b[0m             \u001b[0msock\u001b[0m\u001b[0;34m,\u001b[0m \u001b[0mcontext\u001b[0m\u001b[0;34m,\u001b[0m \u001b[0mtls_in_tls\u001b[0m\u001b[0;34m,\u001b[0m \u001b[0mserver_hostname\u001b[0m\u001b[0;34m=\u001b[0m\u001b[0mserver_hostname\u001b[0m\u001b[0;34m\u001b[0m\u001b[0;34m\u001b[0m\u001b[0m\n\u001b[1;32m    451\u001b[0m         )\n",
      "\u001b[0;32m~/opt/anaconda3/lib/python3.9/site-packages/urllib3/util/ssl_.py\u001b[0m in \u001b[0;36m_ssl_wrap_socket_impl\u001b[0;34m(sock, ssl_context, tls_in_tls, server_hostname)\u001b[0m\n\u001b[1;32m    491\u001b[0m \u001b[0;34m\u001b[0m\u001b[0m\n\u001b[1;32m    492\u001b[0m     \u001b[0;32mif\u001b[0m \u001b[0mserver_hostname\u001b[0m\u001b[0;34m:\u001b[0m\u001b[0;34m\u001b[0m\u001b[0;34m\u001b[0m\u001b[0m\n\u001b[0;32m--> 493\u001b[0;31m         \u001b[0;32mreturn\u001b[0m \u001b[0mssl_context\u001b[0m\u001b[0;34m.\u001b[0m\u001b[0mwrap_socket\u001b[0m\u001b[0;34m(\u001b[0m\u001b[0msock\u001b[0m\u001b[0;34m,\u001b[0m \u001b[0mserver_hostname\u001b[0m\u001b[0;34m=\u001b[0m\u001b[0mserver_hostname\u001b[0m\u001b[0;34m)\u001b[0m\u001b[0;34m\u001b[0m\u001b[0;34m\u001b[0m\u001b[0m\n\u001b[0m\u001b[1;32m    494\u001b[0m     \u001b[0;32melse\u001b[0m\u001b[0;34m:\u001b[0m\u001b[0;34m\u001b[0m\u001b[0;34m\u001b[0m\u001b[0m\n\u001b[1;32m    495\u001b[0m         \u001b[0;32mreturn\u001b[0m \u001b[0mssl_context\u001b[0m\u001b[0;34m.\u001b[0m\u001b[0mwrap_socket\u001b[0m\u001b[0;34m(\u001b[0m\u001b[0msock\u001b[0m\u001b[0;34m)\u001b[0m\u001b[0;34m\u001b[0m\u001b[0;34m\u001b[0m\u001b[0m\n",
      "\u001b[0;32m~/opt/anaconda3/lib/python3.9/ssl.py\u001b[0m in \u001b[0;36mwrap_socket\u001b[0;34m(self, sock, server_side, do_handshake_on_connect, suppress_ragged_eofs, server_hostname, session)\u001b[0m\n\u001b[1;32m    499\u001b[0m         \u001b[0;31m# SSLSocket class handles server_hostname encoding before it calls\u001b[0m\u001b[0;34m\u001b[0m\u001b[0;34m\u001b[0m\u001b[0m\n\u001b[1;32m    500\u001b[0m         \u001b[0;31m# ctx._wrap_socket()\u001b[0m\u001b[0;34m\u001b[0m\u001b[0;34m\u001b[0m\u001b[0m\n\u001b[0;32m--> 501\u001b[0;31m         return self.sslsocket_class._create(\n\u001b[0m\u001b[1;32m    502\u001b[0m             \u001b[0msock\u001b[0m\u001b[0;34m=\u001b[0m\u001b[0msock\u001b[0m\u001b[0;34m,\u001b[0m\u001b[0;34m\u001b[0m\u001b[0;34m\u001b[0m\u001b[0m\n\u001b[1;32m    503\u001b[0m             \u001b[0mserver_side\u001b[0m\u001b[0;34m=\u001b[0m\u001b[0mserver_side\u001b[0m\u001b[0;34m,\u001b[0m\u001b[0;34m\u001b[0m\u001b[0;34m\u001b[0m\u001b[0m\n",
      "\u001b[0;32m~/opt/anaconda3/lib/python3.9/ssl.py\u001b[0m in \u001b[0;36m_create\u001b[0;34m(cls, sock, server_side, do_handshake_on_connect, suppress_ragged_eofs, server_hostname, context, session)\u001b[0m\n\u001b[1;32m   1039\u001b[0m                         \u001b[0;31m# non-blocking\u001b[0m\u001b[0;34m\u001b[0m\u001b[0;34m\u001b[0m\u001b[0m\n\u001b[1;32m   1040\u001b[0m                         \u001b[0;32mraise\u001b[0m \u001b[0mValueError\u001b[0m\u001b[0;34m(\u001b[0m\u001b[0;34m\"do_handshake_on_connect should not be specified for non-blocking sockets\"\u001b[0m\u001b[0;34m)\u001b[0m\u001b[0;34m\u001b[0m\u001b[0;34m\u001b[0m\u001b[0m\n\u001b[0;32m-> 1041\u001b[0;31m                     \u001b[0mself\u001b[0m\u001b[0;34m.\u001b[0m\u001b[0mdo_handshake\u001b[0m\u001b[0;34m(\u001b[0m\u001b[0;34m)\u001b[0m\u001b[0;34m\u001b[0m\u001b[0;34m\u001b[0m\u001b[0m\n\u001b[0m\u001b[1;32m   1042\u001b[0m             \u001b[0;32mexcept\u001b[0m \u001b[0;34m(\u001b[0m\u001b[0mOSError\u001b[0m\u001b[0;34m,\u001b[0m \u001b[0mValueError\u001b[0m\u001b[0;34m)\u001b[0m\u001b[0;34m:\u001b[0m\u001b[0;34m\u001b[0m\u001b[0;34m\u001b[0m\u001b[0m\n\u001b[1;32m   1043\u001b[0m                 \u001b[0mself\u001b[0m\u001b[0;34m.\u001b[0m\u001b[0mclose\u001b[0m\u001b[0;34m(\u001b[0m\u001b[0;34m)\u001b[0m\u001b[0;34m\u001b[0m\u001b[0;34m\u001b[0m\u001b[0m\n",
      "\u001b[0;32m~/opt/anaconda3/lib/python3.9/ssl.py\u001b[0m in \u001b[0;36mdo_handshake\u001b[0;34m(self, block)\u001b[0m\n\u001b[1;32m   1308\u001b[0m             \u001b[0;32mif\u001b[0m \u001b[0mtimeout\u001b[0m \u001b[0;34m==\u001b[0m \u001b[0;36m0.0\u001b[0m \u001b[0;32mand\u001b[0m \u001b[0mblock\u001b[0m\u001b[0;34m:\u001b[0m\u001b[0;34m\u001b[0m\u001b[0;34m\u001b[0m\u001b[0m\n\u001b[1;32m   1309\u001b[0m                 \u001b[0mself\u001b[0m\u001b[0;34m.\u001b[0m\u001b[0msettimeout\u001b[0m\u001b[0;34m(\u001b[0m\u001b[0;32mNone\u001b[0m\u001b[0;34m)\u001b[0m\u001b[0;34m\u001b[0m\u001b[0;34m\u001b[0m\u001b[0m\n\u001b[0;32m-> 1310\u001b[0;31m             \u001b[0mself\u001b[0m\u001b[0;34m.\u001b[0m\u001b[0m_sslobj\u001b[0m\u001b[0;34m.\u001b[0m\u001b[0mdo_handshake\u001b[0m\u001b[0;34m(\u001b[0m\u001b[0;34m)\u001b[0m\u001b[0;34m\u001b[0m\u001b[0;34m\u001b[0m\u001b[0m\n\u001b[0m\u001b[1;32m   1311\u001b[0m         \u001b[0;32mfinally\u001b[0m\u001b[0;34m:\u001b[0m\u001b[0;34m\u001b[0m\u001b[0;34m\u001b[0m\u001b[0m\n\u001b[1;32m   1312\u001b[0m             \u001b[0mself\u001b[0m\u001b[0;34m.\u001b[0m\u001b[0msettimeout\u001b[0m\u001b[0;34m(\u001b[0m\u001b[0mtimeout\u001b[0m\u001b[0;34m)\u001b[0m\u001b[0;34m\u001b[0m\u001b[0;34m\u001b[0m\u001b[0m\n",
      "\u001b[0;31mKeyboardInterrupt\u001b[0m: "
     ]
    }
   ],
   "source": [
    "for i in soup.find_all('div', class_=\"adaptive-filter col-lg-3 col-md-4 col-sm-6 col-xs-12\"):\n",
    "    group_df = None\n",
    "    group_name = i.find('a', class_=\"link\").text\n",
    "   # if os.access(group_name, os.F_OK):\n",
    "  #      pass\n",
    " #   else:\n",
    "#        os.mkdir(group_name)\n",
    "    \n",
    "    products_url = root_url + i.find('a', class_=\"link\")['href']\n",
    "    get_prod_page = requests.get(products_url)\n",
    "    \n",
    "    product_page_soup = BeautifulSoup(get_prod_page.content, 'lxml')\n",
    "    \n",
    "    n_pages = product_page_soup.find('div', class_='b-pager').div['data-pagination-pages-count']\n",
    "    product_urls_list = [products_url if n < 1 else products_url + f\"/page_{n+1}\" for n in range(int(n_pages))]\n",
    "    \n",
    "    for product_url in product_urls_list:\n",
    "        get_prod_page = requests.get(product_url)\n",
    "        product_page_soup = BeautifulSoup(get_prod_page.content, 'lxml')\n",
    "        for single_prod in product_page_soup.find_all('a', class_=\"cs-product-gallery__image-link\"):\n",
    "            single_prod_link = root_url + single_prod['href']\n",
    "            group_df = process_single_product(single_prod_link, base_df=group_df, group_name=group_name)\n",
    "\n",
    "    group_df.to_pickle(rf\"{group_name}\\{group_name}.pkl\")\n",
    "    group_df.to_excel(rf\"{group_name}\\{group_name}.xlsx\") \n",
    "#     img = Image.open(io.BytesIO(get_img.content))\n",
    "#     img.save(rf\"{group_name}\\{image_name}.jpg\")\n",
    "#     print(root_url + i.find('a', class_=\"cs-product-groups-gallery__title\")['href'])\n",
    "    "
   ]
  },
  {
   "cell_type": "code",
   "execution_count": 16,
   "id": "93bef855",
   "metadata": {},
   "outputs": [],
   "source": []
  },
  {
   "cell_type": "code",
   "execution_count": 19,
   "id": "b653532a",
   "metadata": {},
   "outputs": [
    {
     "name": "stdout",
     "output_type": "stream",
     "text": [
      "Поршневая группа\n",
      "Гильзы, цилиндры, шортблок\n",
      "Коленвал, шатуны\n",
      "Подшипники и сальники коленвала\n",
      "Впуск, части головки\n",
      "Выпускная система\n",
      "Прокладки, ремкомплекты\n",
      "Турбины и компоненты\n",
      "Топливная и масляная система, охлаждение\n",
      "Подушки и опоры двигателя\n",
      "Водомет и система привода\n",
      "Винты, импеллеры и прочее\n",
      "Части корпуса гидроцикла\n",
      "Троса газа и система управления\n",
      "Электрика, стартеры, комплектующие\n"
     ]
    }
   ],
   "source": []
  },
  {
   "cell_type": "markdown",
   "id": "f480e110",
   "metadata": {},
   "source": [
    "## prctice"
   ]
  },
  {
   "cell_type": "code",
   "execution_count": 5,
   "id": "1b6e4514",
   "metadata": {},
   "outputs": [
    {
     "ename": "NameError",
     "evalue": "name 'process_single_product' is not defined",
     "output_type": "error",
     "traceback": [
      "\u001b[0;31m---------------------------------------------------------------------------\u001b[0m",
      "\u001b[0;31mNameError\u001b[0m                                 Traceback (most recent call last)",
      "\u001b[0;32m/var/folders/bx/mg7js0sn0nsd31_3kn40zq9w0000gn/T/ipykernel_22928/4149303617.py\u001b[0m in \u001b[0;36m<module>\u001b[0;34m\u001b[0m\n\u001b[0;32m----> 1\u001b[0;31m \u001b[0mprocess_single_product\u001b[0m\u001b[0;34m(\u001b[0m\u001b[0;34mr\"https://yama-parts.kz/p61237451-igolchatyj-podshipnik-shatuna.html\"\u001b[0m\u001b[0;34m)\u001b[0m\u001b[0;34m\u001b[0m\u001b[0;34m\u001b[0m\u001b[0m\n\u001b[0m",
      "\u001b[0;31mNameError\u001b[0m: name 'process_single_product' is not defined"
     ]
    }
   ],
   "source": [
    "process_single_product(r\"https://yama-parts.kz/p61237451-igolchatyj-podshipnik-shatuna.html\")"
   ]
  },
  {
   "cell_type": "code",
   "execution_count": 6,
   "id": "363af475",
   "metadata": {},
   "outputs": [
    {
     "ename": "NameError",
     "evalue": "name 'u' is not defined",
     "output_type": "error",
     "traceback": [
      "\u001b[0;31m---------------------------------------------------------------------------\u001b[0m",
      "\u001b[0;31mNameError\u001b[0m                                 Traceback (most recent call last)",
      "\u001b[0;32m/var/folders/bx/mg7js0sn0nsd31_3kn40zq9w0000gn/T/ipykernel_22928/2056608887.py\u001b[0m in \u001b[0;36m<module>\u001b[0;34m\u001b[0m\n\u001b[1;32m      1\u001b[0m \u001b[0mu1\u001b[0m \u001b[0;34m=\u001b[0m \u001b[0;34mr\"https://yama-parts.kz/p83684903-podshipnik-shatuna-lodochnogo.html\"\u001b[0m\u001b[0;34m\u001b[0m\u001b[0;34m\u001b[0m\u001b[0m\n\u001b[1;32m      2\u001b[0m \u001b[0mu2\u001b[0m \u001b[0;34m=\u001b[0m \u001b[0;34mr\"https://yama-parts.kz/p61486567-palets-porshnevoj-yamaha.html\"\u001b[0m\u001b[0;34m\u001b[0m\u001b[0;34m\u001b[0m\u001b[0m\n\u001b[0;32m----> 3\u001b[0;31m \u001b[0mr\u001b[0m \u001b[0;34m=\u001b[0m \u001b[0mrequests\u001b[0m\u001b[0;34m.\u001b[0m\u001b[0mget\u001b[0m\u001b[0;34m(\u001b[0m\u001b[0mu\u001b[0m\u001b[0;34m)\u001b[0m\u001b[0;34m\u001b[0m\u001b[0;34m\u001b[0m\u001b[0m\n\u001b[0m\u001b[1;32m      4\u001b[0m \u001b[0ms\u001b[0m \u001b[0;34m=\u001b[0m \u001b[0mBeautifulSoup\u001b[0m\u001b[0;34m(\u001b[0m\u001b[0mr\u001b[0m\u001b[0;34m.\u001b[0m\u001b[0mcontent\u001b[0m\u001b[0;34m,\u001b[0m \u001b[0;34m'lxml'\u001b[0m\u001b[0;34m)\u001b[0m\u001b[0;34m\u001b[0m\u001b[0;34m\u001b[0m\u001b[0m\n",
      "\u001b[0;31mNameError\u001b[0m: name 'u' is not defined"
     ]
    }
   ],
   "source": [
    "u1 = r\"https://yama-parts.kz/p83684903-podshipnik-shatuna-lodochnogo.html\"\n",
    "u2 = r\"https://yama-parts.kz/p61486567-palets-porshnevoj-yamaha.html\"\n",
    "r = requests.get(u)\n",
    "s = BeautifulSoup(r.content, 'lxml')"
   ]
  },
  {
   "cell_type": "code",
   "execution_count": null,
   "id": "7ff2ec40",
   "metadata": {},
   "outputs": [],
   "source": [
    "a1 = process_single_product(u1, None)\n",
    "a2 = process_single_product(u2, None)"
   ]
  },
  {
   "cell_type": "code",
   "execution_count": null,
   "id": "c73d0920",
   "metadata": {},
   "outputs": [],
   "source": [
    "a1"
   ]
  },
  {
   "cell_type": "code",
   "execution_count": null,
   "id": "78030c13",
   "metadata": {},
   "outputs": [],
   "source": [
    "a2"
   ]
  },
  {
   "cell_type": "code",
   "execution_count": null,
   "id": "50e05e8c",
   "metadata": {},
   "outputs": [],
   "source": [
    "pd.concat([a1,a2], ignore_index=True)"
   ]
  },
  {
   "cell_type": "code",
   "execution_count": null,
   "id": "c2f77c1a",
   "metadata": {},
   "outputs": [],
   "source": [
    "group_df"
   ]
  },
  {
   "cell_type": "code",
   "execution_count": null,
   "id": "5f7c3ca8",
   "metadata": {},
   "outputs": [],
   "source": [
    "group_df.to_excel(rf\"{group_name}\\{group_name}.xlsx\")"
   ]
  },
  {
   "cell_type": "code",
   "execution_count": null,
   "id": "04a8fc38",
   "metadata": {},
   "outputs": [],
   "source": [
    "os.getcwd()"
   ]
  },
  {
   "cell_type": "code",
   "execution_count": 136,
   "id": "f660e885",
   "metadata": {},
   "outputs": [],
   "source": [
    "url = r\"https://technoparts.kz/kolodki-yamaha-3b4-w0045-10-00/\"\n",
    "r = requests.get(url)\n",
    "soup = BeautifulSoup(r.content, 'lxml')\n",
    "\n",
    "a = soup.find('dl', class_=\"expand-content\").find_all('dd')\n"
   ]
  },
  {
   "cell_type": "code",
   "execution_count": 62,
   "id": "f1074aba",
   "metadata": {
    "scrolled": true
   },
   "outputs": [
    {
     "data": {
      "text/plain": [
       "\"'4T'\""
      ]
     },
     "execution_count": 62,
     "metadata": {},
     "output_type": "execute_result"
    }
   ],
   "source": [
    "repr(soup.find('dl', class_=\"expand-content\").dd.text.strip())"
   ]
  },
  {
   "cell_type": "code",
   "execution_count": 85,
   "id": "df9d5572",
   "metadata": {},
   "outputs": [
    {
     "data": {
      "text/plain": [
       "'https://technoparts.kz/wa-data/public/shop/products/31/44/4431/images/8324/8324.970.JPG'"
      ]
     },
     "execution_count": 85,
     "metadata": {},
     "output_type": "execute_result"
    }
   ],
   "source": [
    "\"https://technoparts.kz\" + soup.find('div', class_=\"image\").a['href']"
   ]
  },
  {
   "cell_type": "code",
   "execution_count": 31,
   "id": "fc3f1711",
   "metadata": {},
   "outputs": [],
   "source": [
    "with open('sas.html', 'wb') as f:\n",
    "    f.write(requests.get('https://technoparts.kz/category/zapchasti/gidrotsikly/porshnevaya-gruppa/?page=5').content)"
   ]
  },
  {
   "cell_type": "code",
   "execution_count": 126,
   "id": "57f03ad7",
   "metadata": {},
   "outputs": [
    {
     "name": "stdout",
     "output_type": "stream",
     "text": [
      "https://technoparts.kz/wa-data/public/shop/products/79/15/1579/images/2106/2106.970.jpg; https://technoparts.kz/wa-data/public/shop/products/79/15/1579/images/2107/2107.970.jpg; \n"
     ]
    }
   ],
   "source": [
    "try:\n",
    "    soup.find('div', class_=\"more-images\")\n",
    "    if soup.find('div', class_=\"more-images\")==None:\n",
    "\n",
    "        raise AttributeError\n",
    "    a = soup.find('div', class_=\"more-images\").find_all('a')\n",
    "    b = ''\n",
    "    for i in a:\n",
    "        b += \"https://technoparts.kz\" + i['href'] + \"; \"\n",
    "    print(b)\n",
    "except:\n",
    "    img_url = \"https://technoparts.kz\" + soup.find('div', class_=\"image\").a['href']"
   ]
  },
  {
   "cell_type": "code",
   "execution_count": null,
   "id": "fc99a176",
   "metadata": {},
   "outputs": [],
   "source": [
    "a = soup.find('dl', class_=\"expand-content\").find_all('dd')\n",
    "s=[]\n",
    "for i in a:\n",
    "    s.append((i.text.strip()))\n",
    "\n",
    "tip_dv = ''\n",
    "obem_dv = ''\n",
    "marka_teh = ''\n",
    "tip_teh = ''\n",
    "proizvoditel = ''"
   ]
  },
  {
   "cell_type": "code",
   "execution_count": 173,
   "id": "5f1648a7",
   "metadata": {},
   "outputs": [],
   "source": [
    "tip_dv = ''\n",
    "obem_dv = ''\n",
    "marka_teh = ''\n",
    "tip_teh = ''\n",
    "proizvoditel = ''\n",
    "chars = {k.text.strip(): v.text.strip() for k,v in zip(soup.find('dl', class_=\"expand-content\").find_all('dt'), soup.find('dl', class_=\"expand-content\").find_all('dd'))}\n",
    "for i in chars:\n",
    "    if i == 'Тип двигателя':\n",
    "        tip_dv = chars[i]\n",
    "        continue\n",
    "    if i == 'Объём двигателя':\n",
    "        obem_dv = chars[i]\n",
    "        continue\n",
    "    if i == 'Марка техники':\n",
    "        marka_teh = chars[i]\n",
    "        continue\n",
    "    if i == 'Тип техники':\n",
    "        tip_teh = chars[i]\n",
    "        continue\n",
    "    if i == 'Производитель':\n",
    "        proizvoditel = chars[i]\n",
    "        continue"
   ]
  },
  {
   "cell_type": "code",
   "execution_count": 154,
   "id": "a734ed3c",
   "metadata": {},
   "outputs": [
    {
     "data": {
      "text/plain": [
       "''"
      ]
     },
     "execution_count": 154,
     "metadata": {},
     "output_type": "execute_result"
    }
   ],
   "source": [
    "def process_single_product(url, base_df, group_name='./'):\n",
    "    r = requests.get(url)\n",
    "    if r.status_code == 200:\n",
    "        pass\n",
    "    elif r.status_code >= 400:\n",
    "        print(url)\n",
    "        print(r.status_code)\n",
    "        return\n",
    "\n",
    "    soup = BeautifulSoup(r.content, 'lxml')\n",
    "    \n",
    "    #наличие\n",
    "    try:\n",
    "        available = soup.find('div', class_=\"stocks\").span.text\n",
    "    except AttributeError:\n",
    "        available = 'Нет в наличии'\n",
    "    \n",
    "    if available=='Нет в наличии':\n",
    "        return base_df\n",
    "    \n",
    "    #id_ = soup.find('li', class_=\"b-product-data__item b-product-data__item_type_sku\").span['title']\n",
    "    name = soup.find('h1', class_=\"name\").span.text\n",
    "    price = soup.find('div', class_=\"add2cart\").span['data-price']\n",
    "    description = soup.find('p', class_=\"summary\").text\n",
    "    text = soup.find('div', class_='panel-body').text\n",
    "    \n",
    "    #характеристики\n",
    "    a = soup.find('dl', class_=\"expand-content\").find_all('dd')\n",
    "    tip_dv = ''\n",
    "    obem_dv = ''\n",
    "    marka_teh = ''\n",
    "    tip_teh = ''\n",
    "    proizvoditel = ''\n",
    "    chars = {k.text.strip(): v.text.strip() for k,v in zip(soup.find('dl', class_=\"expand-content\").find_all('dt'), soup.find('dl', class_=\"expand-content\").find_all('dd'))}\n",
    "    for i in chars:\n",
    "        if i == 'Тип двигателя':\n",
    "            tip_dv = chars[i]\n",
    "            continue\n",
    "        if i == 'Объём двигателя':\n",
    "            obem_dv = chars[i]\n",
    "            continue\n",
    "        if i == 'Марка техники':\n",
    "            marka_teh = chars[i]\n",
    "            continue\n",
    "        if i == 'Тип техники':\n",
    "            tip_teh = chars[i]\n",
    "            continue\n",
    "        if i == 'Производитель':\n",
    "            proizvoditel = chars[i]\n",
    "            continue\n",
    "    \n",
    "    #фото\n",
    "    try:\n",
    "        soup.find('div', class_=\"more-images\")\n",
    "        if soup.find('div', class_=\"more-images\") is None:\n",
    "            raise AttributeError\n",
    "        a = soup.find('div', class_=\"more-images\").find_all('a')\n",
    "        b = ''\n",
    "        for i in a:\n",
    "            b += root_url + i['href'] + \"; \"\n",
    "        img_url = b\n",
    "    except AttributeError:\n",
    "        img_url = root_url + soup.find('div', class_=\"image\").a['href']\n",
    "        \n",
    "    #АЙДИ\n",
    "    \n",
    "    #КАТЕГОРИЯ\n",
    "    \n",
    "    \n",
    "    product = {\"Название\": [name], \"Цена\": [price], \"Описание\": [description], \"Характеристики\": [product_attrs],\n",
    "               \"Код\": [id_], \"Доступность\": available, \"Изображения\": img_path}\n",
    "    product = pd.DataFrame(product)\n",
    "    display(product)\n",
    "    if base_df is not None:\n",
    "        return pd.concat([base_df, product], ignore_index=True)\n",
    "    return product"
   ]
  }
 ],
 "metadata": {
  "kernelspec": {
   "display_name": "Python 3 (ipykernel)",
   "language": "python",
   "name": "python3"
  },
  "language_info": {
   "codemirror_mode": {
    "name": "ipython",
    "version": 3
   },
   "file_extension": ".py",
   "mimetype": "text/x-python",
   "name": "python",
   "nbconvert_exporter": "python",
   "pygments_lexer": "ipython3",
   "version": "3.9.13"
  }
 },
 "nbformat": 4,
 "nbformat_minor": 5
}
